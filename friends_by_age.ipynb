{
 "cells": [
  {
   "cell_type": "code",
   "execution_count": 1,
   "id": "collect-investment",
   "metadata": {},
   "outputs": [],
   "source": [
    "from pyspark.sql import SparkSession\n",
    "from pyspark.sql import functions as func\n"
   ]
  },
  {
   "cell_type": "code",
   "execution_count": 2,
   "id": "round-jackson",
   "metadata": {},
   "outputs": [],
   "source": [
    "spark = SparkSession.builder.appName(\"SparkSQL\").getOrCreate()\n",
    "\n",
    "people = spark.read.option(\"header\", \"true\").option(\"inferSchema\", \"true\")\\\n",
    "    .csv(\"./fakefriends-header.csv\")"
   ]
  },
  {
   "cell_type": "code",
   "execution_count": 3,
   "id": "selective-coast",
   "metadata": {},
   "outputs": [
    {
     "name": "stdout",
     "output_type": "stream",
     "text": [
      "root\n",
      " |-- userID: integer (nullable = true)\n",
      " |-- name: string (nullable = true)\n",
      " |-- age: integer (nullable = true)\n",
      " |-- friends: integer (nullable = true)\n",
      "\n"
     ]
    }
   ],
   "source": [
    "people.printSchema()"
   ]
  },
  {
   "cell_type": "code",
   "execution_count": 7,
   "id": "becoming-hometown",
   "metadata": {},
   "outputs": [],
   "source": [
    "friends_by_age = people.select(\"age\", \"friends\")"
   ]
  },
  {
   "cell_type": "code",
   "execution_count": 8,
   "id": "abroad-copper",
   "metadata": {},
   "outputs": [],
   "source": [
    "friends_by_age = people.groupBy(\"age\").agg(func.round(func.avg(\"friends\"),2).alias(\"avg_no_friends\")).sort(\"age\")"
   ]
  },
  {
   "cell_type": "code",
   "execution_count": 9,
   "id": "prescription-coordinator",
   "metadata": {},
   "outputs": [
    {
     "name": "stdout",
     "output_type": "stream",
     "text": [
      "+---+--------------+\n",
      "|age|avg_no_friends|\n",
      "+---+--------------+\n",
      "| 18|        343.38|\n",
      "| 19|        213.27|\n",
      "| 20|         165.0|\n",
      "| 21|        350.88|\n",
      "| 22|        206.43|\n",
      "| 23|         246.3|\n",
      "| 24|         233.8|\n",
      "| 25|        197.45|\n",
      "| 26|        242.06|\n",
      "| 27|        228.13|\n",
      "| 28|         209.1|\n",
      "| 29|        215.92|\n",
      "| 30|        235.82|\n",
      "| 31|        267.25|\n",
      "| 32|        207.91|\n",
      "| 33|        325.33|\n",
      "| 34|         245.5|\n",
      "| 35|        211.63|\n",
      "| 36|         246.6|\n",
      "| 37|        249.33|\n",
      "| 38|        193.53|\n",
      "| 39|        169.29|\n",
      "| 40|        250.82|\n",
      "| 41|        268.56|\n",
      "| 42|         303.5|\n",
      "| 43|        230.57|\n",
      "| 44|        282.17|\n",
      "| 45|        309.54|\n",
      "| 46|        223.69|\n",
      "| 47|        233.22|\n",
      "| 48|         281.4|\n",
      "| 49|        184.67|\n",
      "| 50|         254.6|\n",
      "| 51|        302.14|\n",
      "| 52|        340.64|\n",
      "| 53|        222.86|\n",
      "| 54|        278.08|\n",
      "| 55|        295.54|\n",
      "| 56|        306.67|\n",
      "| 57|        258.83|\n",
      "| 58|        116.55|\n",
      "| 59|         220.0|\n",
      "| 60|        202.71|\n",
      "| 61|        256.22|\n",
      "| 62|        220.77|\n",
      "| 63|         384.0|\n",
      "| 64|        281.33|\n",
      "| 65|         298.2|\n",
      "| 66|        276.44|\n",
      "| 67|        214.63|\n",
      "| 68|         269.6|\n",
      "| 69|         235.2|\n",
      "+---+--------------+\n",
      "\n"
     ]
    }
   ],
   "source": [
    "friends_by_age.show(10000)"
   ]
  },
  {
   "cell_type": "code",
   "execution_count": null,
   "id": "massive-burlington",
   "metadata": {},
   "outputs": [],
   "source": []
  }
 ],
 "metadata": {
  "kernelspec": {
   "display_name": "Python 3",
   "language": "python",
   "name": "python3"
  },
  "language_info": {
   "codemirror_mode": {
    "name": "ipython",
    "version": 3
   },
   "file_extension": ".py",
   "mimetype": "text/x-python",
   "name": "python",
   "nbconvert_exporter": "python",
   "pygments_lexer": "ipython3",
   "version": "3.7.7"
  }
 },
 "nbformat": 4,
 "nbformat_minor": 5
}
