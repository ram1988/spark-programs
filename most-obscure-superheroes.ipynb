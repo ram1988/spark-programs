{
 "cells": [
  {
   "cell_type": "code",
   "execution_count": 53,
   "id": "collect-investment",
   "metadata": {},
   "outputs": [],
   "source": [
    "from pyspark.sql import SparkSession\n",
    "from pyspark.sql import functions as func\n",
    "from pyspark.sql.types import StructType, StructField, IntegerType, StringType"
   ]
  },
  {
   "cell_type": "code",
   "execution_count": 54,
   "id": "sophisticated-lobby",
   "metadata": {},
   "outputs": [],
   "source": [
    "spark = SparkSession.builder.appName(\"MostPopularSuperhero\").getOrCreate()\n",
    "schema = StructType([ \\\n",
    "                     StructField(\"id\", IntegerType(), True), \\\n",
    "                     StructField(\"name\", StringType(), True)])"
   ]
  },
  {
   "cell_type": "code",
   "execution_count": 55,
   "id": "round-jackson",
   "metadata": {},
   "outputs": [],
   "source": [
    "names = spark.read.schema(schema).option(\"sep\", \" \").csv(\"./Marvel+Names\")\n"
   ]
  },
  {
   "cell_type": "code",
   "execution_count": 56,
   "id": "selective-coast",
   "metadata": {},
   "outputs": [],
   "source": [
    "lines = spark.read.text(\"./Marvel+Graph\")\n"
   ]
  },
  {
   "cell_type": "code",
   "execution_count": 57,
   "id": "abroad-copper",
   "metadata": {},
   "outputs": [
    {
     "data": {
      "text/plain": [
       "DataFrame[id: int, name: string]"
      ]
     },
     "execution_count": 57,
     "metadata": {},
     "output_type": "execute_result"
    }
   ],
   "source": [
    "names"
   ]
  },
  {
   "cell_type": "code",
   "execution_count": 58,
   "id": "prescription-coordinator",
   "metadata": {},
   "outputs": [
    {
     "data": {
      "text/plain": [
       "DataFrame[value: string]"
      ]
     },
     "execution_count": 58,
     "metadata": {},
     "output_type": "execute_result"
    }
   ],
   "source": [
    "lines"
   ]
  },
  {
   "cell_type": "code",
   "execution_count": 59,
   "id": "sharp-airplane",
   "metadata": {},
   "outputs": [],
   "source": [
    "connections = lines.withColumn(\"id\",func.split(func.trim(func.col(\"value\")), \" \")[0])\\\n",
    "            .withColumn(\"connections\",func.size(func.split(func.trim(func.col(\"value\")), \" \"))-1)\\\n",
    "            .groupBy(\"id\").agg(func.sum(\"connections\").alias(\"connections\"))"
   ]
  },
  {
   "cell_type": "code",
   "execution_count": 60,
   "id": "federal-quebec",
   "metadata": {},
   "outputs": [],
   "source": [
    "unpopular_hero = connections.sort(func.col(\"connections\").asc())"
   ]
  },
  {
   "cell_type": "code",
   "execution_count": 62,
   "id": "headed-dominican",
   "metadata": {},
   "outputs": [
    {
     "name": "stdout",
     "output_type": "stream",
     "text": [
      "+----+--------------------+-----------+\n",
      "|  id|                name|connections|\n",
      "+----+--------------------+-----------+\n",
      "|6411|              ZANTOR|          0|\n",
      "|1408|         DEATHCHARGE|          0|\n",
      "|4602|         RED WOLF II|          0|\n",
      "|3014|JOHNSON, LYNDON BAIN|          0|\n",
      "|2911|                KULL|          0|\n",
      "|1841|              FENRIS|          0|\n",
      "|4517|              RANDAK|          0|\n",
      "|4784|                RUNE|          0|\n",
      "|4945|         SEA LEOPARD|          0|\n",
      "| 467|        BERSERKER II|          0|\n",
      "| 835|     CALLAHAN, DANNY|          0|\n",
      "|5028|           SHARKSKIN|          0|\n",
      "|3298|          LUNATIK II|          0|\n",
      "|3489|MARVEL BOY/MARTIN BU|          0|\n",
      "| 577|              BLARE/|          0|\n",
      "|2139|      GIURESCU, RADU|          0|\n",
      "|1089|       CLUMSY FOULUP|          0|\n",
      "|3490|MARVEL BOY II/MARTIN|          0|\n",
      "|2117|GERVASE, LADY ALYSSA|          0|\n",
      "|2180|                GOOM|          1|\n",
      "+----+--------------------+-----------+\n",
      "only showing top 20 rows\n",
      "\n"
     ]
    }
   ],
   "source": [
    "names.join(unpopular_hero,\"id\").sort(func.col(\"connections\").asc()).show()"
   ]
  },
  {
   "cell_type": "code",
   "execution_count": null,
   "id": "sharing-lodging",
   "metadata": {},
   "outputs": [],
   "source": []
  },
  {
   "cell_type": "code",
   "execution_count": null,
   "id": "technical-shape",
   "metadata": {},
   "outputs": [],
   "source": []
  }
 ],
 "metadata": {
  "kernelspec": {
   "display_name": "Python 3",
   "language": "python",
   "name": "python3"
  },
  "language_info": {
   "codemirror_mode": {
    "name": "ipython",
    "version": 3
   },
   "file_extension": ".py",
   "mimetype": "text/x-python",
   "name": "python",
   "nbconvert_exporter": "python",
   "pygments_lexer": "ipython3",
   "version": "3.7.7"
  }
 },
 "nbformat": 4,
 "nbformat_minor": 5
}
