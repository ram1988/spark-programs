{
 "cells": [
  {
   "cell_type": "code",
   "execution_count": 9,
   "id": "collect-investment",
   "metadata": {},
   "outputs": [],
   "source": [
    "from pyspark.sql import SparkSession\n",
    "from pyspark.sql import functions as func\n",
    "from pyspark.sql.types import StructType, StructField, StringType, IntegerType, FloatType"
   ]
  },
  {
   "cell_type": "code",
   "execution_count": 10,
   "id": "sophisticated-lobby",
   "metadata": {},
   "outputs": [],
   "source": [
    "schema = StructType([ \\\n",
    "                     StructField(\"customerID\", IntegerType(), True), \\\n",
    "                     StructField(\"orderID\", IntegerType(), True), \\\n",
    "                     StructField(\"amount\", FloatType(), True)])"
   ]
  },
  {
   "cell_type": "code",
   "execution_count": 11,
   "id": "round-jackson",
   "metadata": {},
   "outputs": [],
   "source": [
    "spark = SparkSession.builder.appName(\"SparkSQL\").getOrCreate()\n",
    "\n",
    "\n",
    "customers = spark.read.schema(schema).csv(\"./customer-orders.csv\")"
   ]
  },
  {
   "cell_type": "code",
   "execution_count": 12,
   "id": "selective-coast",
   "metadata": {},
   "outputs": [
    {
     "name": "stdout",
     "output_type": "stream",
     "text": [
      "root\n",
      " |-- customerID: integer (nullable = true)\n",
      " |-- orderID: integer (nullable = true)\n",
      " |-- amount: float (nullable = true)\n",
      "\n"
     ]
    }
   ],
   "source": [
    "customers.printSchema()"
   ]
  },
  {
   "cell_type": "code",
   "execution_count": 18,
   "id": "abroad-copper",
   "metadata": {},
   "outputs": [],
   "source": [
    "amount_spent_by_customers = customers.select(\"customerID\", \"amount\")"
   ]
  },
  {
   "cell_type": "code",
   "execution_count": 19,
   "id": "prescription-coordinator",
   "metadata": {},
   "outputs": [],
   "source": [
    "amount_spent_by_customers = amount_spent_by_customers.groupBy(\"customerID\")\\\n",
    "                            .agg(func.round(func.sum(\"amount\"),2).alias(\"total_amount\"))"
   ]
  },
  {
   "cell_type": "code",
   "execution_count": 20,
   "id": "sharp-airplane",
   "metadata": {},
   "outputs": [],
   "source": [
    "amount_spent_by_customers = amount_spent_by_customers.sort(\"total_amount\")"
   ]
  },
  {
   "cell_type": "code",
   "execution_count": 21,
   "id": "federal-quebec",
   "metadata": {},
   "outputs": [
    {
     "name": "stdout",
     "output_type": "stream",
     "text": [
      "Row(customerID=45, total_amount=3309.38)\n",
      "Row(customerID=79, total_amount=3790.57)\n",
      "Row(customerID=96, total_amount=3924.23)\n",
      "Row(customerID=23, total_amount=4042.65)\n",
      "Row(customerID=99, total_amount=4172.29)\n",
      "Row(customerID=75, total_amount=4178.5)\n",
      "Row(customerID=36, total_amount=4278.05)\n",
      "Row(customerID=98, total_amount=4297.26)\n",
      "Row(customerID=47, total_amount=4316.3)\n",
      "Row(customerID=77, total_amount=4327.73)\n",
      "Row(customerID=13, total_amount=4367.62)\n",
      "Row(customerID=48, total_amount=4384.33)\n",
      "Row(customerID=49, total_amount=4394.6)\n",
      "Row(customerID=94, total_amount=4475.57)\n",
      "Row(customerID=67, total_amount=4505.79)\n",
      "Row(customerID=50, total_amount=4517.27)\n",
      "Row(customerID=78, total_amount=4524.51)\n",
      "Row(customerID=5, total_amount=4561.07)\n",
      "Row(customerID=57, total_amount=4628.4)\n",
      "Row(customerID=83, total_amount=4635.8)\n",
      "Row(customerID=91, total_amount=4642.26)\n",
      "Row(customerID=74, total_amount=4647.13)\n",
      "Row(customerID=84, total_amount=4652.94)\n",
      "Row(customerID=3, total_amount=4659.63)\n",
      "Row(customerID=12, total_amount=4664.59)\n",
      "Row(customerID=66, total_amount=4681.92)\n",
      "Row(customerID=56, total_amount=4701.02)\n",
      "Row(customerID=21, total_amount=4707.41)\n",
      "Row(customerID=80, total_amount=4727.86)\n",
      "Row(customerID=14, total_amount=4735.03)\n",
      "Row(customerID=37, total_amount=4735.2)\n",
      "Row(customerID=7, total_amount=4755.07)\n",
      "Row(customerID=44, total_amount=4756.89)\n",
      "Row(customerID=31, total_amount=4765.05)\n",
      "Row(customerID=82, total_amount=4812.49)\n",
      "Row(customerID=4, total_amount=4815.05)\n",
      "Row(customerID=10, total_amount=4819.7)\n",
      "Row(customerID=88, total_amount=4830.55)\n",
      "Row(customerID=20, total_amount=4836.86)\n",
      "Row(customerID=89, total_amount=4851.48)\n",
      "Row(customerID=95, total_amount=4876.84)\n",
      "Row(customerID=38, total_amount=4898.46)\n",
      "Row(customerID=76, total_amount=4904.21)\n",
      "Row(customerID=86, total_amount=4908.81)\n",
      "Row(customerID=27, total_amount=4915.89)\n",
      "Row(customerID=18, total_amount=4921.27)\n",
      "Row(customerID=53, total_amount=4945.3)\n",
      "Row(customerID=1, total_amount=4958.6)\n",
      "Row(customerID=51, total_amount=4975.22)\n",
      "Row(customerID=16, total_amount=4979.06)\n",
      "Row(customerID=30, total_amount=4990.72)\n",
      "Row(customerID=28, total_amount=5000.71)\n",
      "Row(customerID=22, total_amount=5019.45)\n",
      "Row(customerID=29, total_amount=5032.53)\n",
      "Row(customerID=17, total_amount=5032.68)\n",
      "Row(customerID=60, total_amount=5040.71)\n",
      "Row(customerID=25, total_amount=5057.61)\n",
      "Row(customerID=19, total_amount=5059.43)\n",
      "Row(customerID=81, total_amount=5112.71)\n",
      "Row(customerID=69, total_amount=5123.01)\n",
      "Row(customerID=65, total_amount=5140.35)\n",
      "Row(customerID=11, total_amount=5152.29)\n",
      "Row(customerID=35, total_amount=5155.42)\n",
      "Row(customerID=40, total_amount=5186.43)\n",
      "Row(customerID=87, total_amount=5206.4)\n",
      "Row(customerID=52, total_amount=5245.06)\n",
      "Row(customerID=26, total_amount=5250.4)\n",
      "Row(customerID=62, total_amount=5253.32)\n",
      "Row(customerID=33, total_amount=5254.66)\n",
      "Row(customerID=24, total_amount=5259.92)\n",
      "Row(customerID=93, total_amount=5265.75)\n",
      "Row(customerID=64, total_amount=5288.69)\n",
      "Row(customerID=90, total_amount=5290.41)\n",
      "Row(customerID=55, total_amount=5298.09)\n",
      "Row(customerID=9, total_amount=5322.65)\n",
      "Row(customerID=34, total_amount=5330.8)\n",
      "Row(customerID=72, total_amount=5337.44)\n",
      "Row(customerID=70, total_amount=5368.25)\n",
      "Row(customerID=43, total_amount=5368.83)\n",
      "Row(customerID=92, total_amount=5379.28)\n",
      "Row(customerID=6, total_amount=5397.88)\n",
      "Row(customerID=15, total_amount=5413.51)\n",
      "Row(customerID=63, total_amount=5415.15)\n",
      "Row(customerID=58, total_amount=5437.73)\n",
      "Row(customerID=32, total_amount=5496.05)\n",
      "Row(customerID=61, total_amount=5497.48)\n",
      "Row(customerID=85, total_amount=5503.43)\n",
      "Row(customerID=8, total_amount=5517.24)\n",
      "Row(customerID=0, total_amount=5524.95)\n",
      "Row(customerID=41, total_amount=5637.62)\n",
      "Row(customerID=59, total_amount=5642.89)\n",
      "Row(customerID=42, total_amount=5696.84)\n",
      "Row(customerID=46, total_amount=5963.11)\n",
      "Row(customerID=97, total_amount=5977.19)\n",
      "Row(customerID=2, total_amount=5994.59)\n",
      "Row(customerID=71, total_amount=5995.66)\n",
      "Row(customerID=54, total_amount=6065.39)\n",
      "Row(customerID=39, total_amount=6193.11)\n",
      "Row(customerID=73, total_amount=6206.2)\n",
      "Row(customerID=68, total_amount=6375.45)\n"
     ]
    }
   ],
   "source": [
    "finalResult = amount_spent_by_customers.collect()\n",
    "\n",
    "for result in finalResult:\n",
    "    print(result)"
   ]
  },
  {
   "cell_type": "code",
   "execution_count": 22,
   "id": "raised-evans",
   "metadata": {},
   "outputs": [],
   "source": [
    "spark.stop()"
   ]
  },
  {
   "cell_type": "code",
   "execution_count": null,
   "id": "headed-dominican",
   "metadata": {},
   "outputs": [],
   "source": []
  }
 ],
 "metadata": {
  "kernelspec": {
   "display_name": "Python 3",
   "language": "python",
   "name": "python3"
  },
  "language_info": {
   "codemirror_mode": {
    "name": "ipython",
    "version": 3
   },
   "file_extension": ".py",
   "mimetype": "text/x-python",
   "name": "python",
   "nbconvert_exporter": "python",
   "pygments_lexer": "ipython3",
   "version": "3.7.7"
  }
 },
 "nbformat": 4,
 "nbformat_minor": 5
}
